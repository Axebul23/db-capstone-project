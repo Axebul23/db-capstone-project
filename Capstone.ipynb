{
 "cells": [
  {
   "cell_type": "code",
   "execution_count": 1,
   "id": "7c6dd782",
   "metadata": {},
   "outputs": [
    {
     "name": "stdout",
     "output_type": "stream",
     "text": [
      "Requirement already satisfied: mysql-connector-python in c:\\users\\eldin\\appdata\\local\\programs\\python\\python310\\lib\\site-packages (8.0.32)\n",
      "Requirement already satisfied: protobuf<=3.20.3,>=3.11.0 in c:\\users\\eldin\\appdata\\local\\programs\\python\\python310\\lib\\site-packages (from mysql-connector-python) (3.20.3)\n"
     ]
    },
    {
     "name": "stderr",
     "output_type": "stream",
     "text": [
      "\n",
      "[notice] A new release of pip is available: 23.0.1 -> 23.1.1\n",
      "[notice] To update, run: python.exe -m pip install --upgrade pip\n"
     ]
    }
   ],
   "source": [
    "!pip install mysql-connector-python"
   ]
  },
  {
   "cell_type": "code",
   "execution_count": 8,
   "id": "941c272e",
   "metadata": {},
   "outputs": [],
   "source": [
    "import mysql.connector as connector"
   ]
  },
  {
   "cell_type": "code",
   "execution_count": 14,
   "id": "4084d810",
   "metadata": {},
   "outputs": [],
   "source": [
    "connection = connector.connect(user=\"dbuser\", password=\"DBcapstone123\", db=\"littlelemondb\")"
   ]
  },
  {
   "cell_type": "code",
   "execution_count": 15,
   "id": "7cc2d885",
   "metadata": {},
   "outputs": [],
   "source": [
    "cursor = connection.cursor()"
   ]
  },
  {
   "cell_type": "code",
   "execution_count": 56,
   "id": "e88b2ee0",
   "metadata": {},
   "outputs": [],
   "source": [
    "show_tables_query = \"SHOW tables\""
   ]
  },
  {
   "cell_type": "code",
   "execution_count": 57,
   "id": "dc3d0304",
   "metadata": {},
   "outputs": [],
   "source": [
    "results = cursor.execute(show_tables_query)"
   ]
  },
  {
   "cell_type": "code",
   "execution_count": 58,
   "id": "5bed80d0",
   "metadata": {},
   "outputs": [
    {
     "name": "stdout",
     "output_type": "stream",
     "text": [
      "bookings\n",
      "contactdetails\n",
      "customers\n",
      "menu\n",
      "menucomb\n",
      "menuitems\n",
      "orderdeliverystatus\n",
      "orders\n",
      "ordersview\n",
      "staff\n"
     ]
    }
   ],
   "source": [
    "tables = cursor.fetchall()\n",
    "for t in tables:\n",
    "    print(t[0])"
   ]
  },
  {
   "cell_type": "code",
   "execution_count": 59,
   "id": "c47fffb1",
   "metadata": {},
   "outputs": [],
   "source": [
    "Customers = '''\n",
    "SELECT Customers.Name AS Name, ContactDetails.Email AS Email, ContactDetails.PhoneNumber AS Phonenumber, \n",
    "ContactDetails.Address AS Address, Orders.TotalCost AS Total \n",
    "FROM Customers JOIN ContactDetails ON Customers.CustomerID = ContactDetails.CustomerID\n",
    "JOIN Orders ON Customers.CustomerID = Orders.CustomerID\n",
    "WHERE Orders.TotalCost > 60;\n",
    "'''"
   ]
  },
  {
   "cell_type": "code",
   "execution_count": 60,
   "id": "33deb2d9",
   "metadata": {},
   "outputs": [],
   "source": [
    "cursor.execute(Customers)"
   ]
  },
  {
   "cell_type": "code",
   "execution_count": 61,
   "id": "2270061e",
   "metadata": {},
   "outputs": [],
   "source": [
    "Customers = cursor.fetchall()"
   ]
  },
  {
   "cell_type": "code",
   "execution_count": 62,
   "id": "e9b908f4",
   "metadata": {},
   "outputs": [
    {
     "name": "stdout",
     "output_type": "stream",
     "text": [
      "Name: David Beckham\n",
      "Email: davidtest@mail.com\n",
      "Phone number: 223582350230\n",
      "Address: Test street 40\n",
      "Total cost: 180\n"
     ]
    }
   ],
   "source": [
    "for customer in Customers[:5]:\n",
    "    print(f\"Name: {customer[0]}\")\n",
    "    print(f\"Email: {customer[1]}\")\n",
    "    print(f\"Phone number: {customer[2]}\")\n",
    "    print(f\"Address: {customer[3]}\")\n",
    "    print(f\"Total cost: {customer[4]}\")"
   ]
  }
 ],
 "metadata": {
  "kernelspec": {
   "display_name": "Python 3 (ipykernel)",
   "language": "python",
   "name": "python3"
  },
  "language_info": {
   "codemirror_mode": {
    "name": "ipython",
    "version": 3
   },
   "file_extension": ".py",
   "mimetype": "text/x-python",
   "name": "python",
   "nbconvert_exporter": "python",
   "pygments_lexer": "ipython3",
   "version": "3.10.0"
  }
 },
 "nbformat": 4,
 "nbformat_minor": 5
}
